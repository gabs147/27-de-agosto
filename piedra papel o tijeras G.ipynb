{
 "cells": [
  {
   "cell_type": "code",
   "execution_count": 2,
   "metadata": {},
   "outputs": [
    {
     "name": "stdout",
     "output_type": "stream",
     "text": [
      "ganaste\n"
     ]
    }
   ],
   "source": [
    "import random\n",
    "def play():\n",
    "    user = input(\"que vas a usar?'piedra','papel','tijeras'\")\n",
    "    computer = random.choice(['piedra','papel','tijeras'])\n",
    "    \n",
    "    if user ==computer:\n",
    "        return 'es un empate'\n",
    "    \n",
    "    if is_win(user, computer):\n",
    "        return 'ganaste'\n",
    "    return'perdiste'\n",
    "\n",
    "def is_win(player, opponent):\n",
    "    if (player =='piedra' and opponent == 'tijeras') or (player =='tijeras' and opponent =='papel') \\\n",
    "        or (player == 'papel' and opponent == 'tijeras'):\n",
    "        return True\n",
    "\n",
    "\n",
    "print(play())"
   ]
  },
  {
   "cell_type": "code",
   "execution_count": 3,
   "metadata": {},
   "outputs": [
    {
     "name": "stdout",
     "output_type": "stream",
     "text": [
      "Ronda 1:\n",
      "es un empate\n",
      "\n",
      "Ronda 2:\n",
      "es un empate\n",
      "\n",
      "Ronda 3:\n",
      "ganaste\n",
      "\n",
      "Ronda 4:\n",
      "ganaste\n",
      "\n",
      "Ronda 5:\n",
      "es un empate\n",
      "\n"
     ]
    }
   ],
   "source": [
    "for i in range(5):\n",
    "    print(f\"Ronda {i + 1}:\")\n",
    "    resultado = play()\n",
    "    print(resultado)\n",
    "    print()"
   ]
  },
  {
   "cell_type": "code",
   "execution_count": 7,
   "metadata": {},
   "outputs": [
    {
     "name": "stdout",
     "output_type": "stream",
     "text": [
      "7?euMCIZ+N\n"
     ]
    }
   ],
   "source": [
    "# !\"#$%&()*+,-./0123456789?@ABCDEFGHIJKLMNOPQRSTUVWXYZabcdefghijklmnopqrstuvwxyz'\n",
    "\n",
    "\n",
    "import random\n",
    "chars = '!\"#$%&()*+,-./0123456789?@ABCDEFGHIJKLMNOPQRSTUVWXYZabcdefghijklmnopqrstuvwxyz'\n",
    "password = ''\n",
    "\n",
    "lengthPW = int(input('que longitud quieres para tu pw'))\n",
    "\n",
    "for _ in range(lengthPW):\n",
    "    \n",
    "    password += random.choice(chars)\n",
    "\n",
    "print(password)"
   ]
  },
  {
   "cell_type": "code",
   "execution_count": null,
   "metadata": {},
   "outputs": [],
   "source": []
  }
 ],
 "metadata": {
  "kernelspec": {
   "display_name": "base",
   "language": "python",
   "name": "python3"
  },
  "language_info": {
   "codemirror_mode": {
    "name": "ipython",
    "version": 3
   },
   "file_extension": ".py",
   "mimetype": "text/x-python",
   "name": "python",
   "nbconvert_exporter": "python",
   "pygments_lexer": "ipython3",
   "version": "3.8.3"
  }
 },
 "nbformat": 4,
 "nbformat_minor": 2
}
