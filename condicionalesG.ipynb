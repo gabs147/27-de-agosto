{
  "cells": [
    {
      "cell_type": "markdown",
      "metadata": {
        "id": "view-in-github",
        "colab_type": "text"
      },
      "source": [
        "<a href=\"https://colab.research.google.com/github/gabs147/27-de-agosto/blob/main/condicionalesG.ipynb\" target=\"_parent\"><img src=\"https://colab.research.google.com/assets/colab-badge.svg\" alt=\"Open In Colab\"/></a>"
      ]
    },
    {
      "cell_type": "code",
      "execution_count": null,
      "metadata": {
        "id": "PzaD_rHYO3Qr",
        "outputId": "955b7389-77cd-4b81-94b1-7fe633010e43"
      },
      "outputs": [
        {
          "data": {
            "text/plain": [
              "'7'"
            ]
          },
          "execution_count": 7,
          "metadata": {},
          "output_type": "execute_result"
        }
      ],
      "source": [
        "input(\"ingresar un numero:\")"
      ]
    },
    {
      "cell_type": "code",
      "execution_count": null,
      "metadata": {
        "id": "6uymfXjFO3Qs",
        "outputId": "7560925f-70f5-4ea5-b97b-6687fd4a174a"
      },
      "outputs": [
        {
          "name": "stdout",
          "output_type": "stream",
          "text": [
            "Es par\n"
          ]
        },
        {
          "data": {
            "text/plain": [
              "'8'"
            ]
          },
          "execution_count": 16,
          "metadata": {},
          "output_type": "execute_result"
        }
      ],
      "source": [
        "x= 0\n",
        "if not x%2:\n",
        "    print(\"Es par\")\n",
        "else:\n",
        "    print(\"Es impar\")\n",
        "\n",
        "\n",
        "input(\"ingresar un numero:\")\n",
        "\n",
        "\n",
        "\n",
        "\n"
      ]
    },
    {
      "cell_type": "code",
      "execution_count": null,
      "metadata": {
        "id": "LvoBs9zMO3Qt",
        "outputId": "6e405ac8-4e5c-4ffd-fdfc-5cb37296e4e8"
      },
      "outputs": [
        {
          "name": "stdout",
          "output_type": "stream",
          "text": [
            "9\n"
          ]
        }
      ],
      "source": [
        "x=10\n",
        "x-=1 if x>0 else x\n",
        "print(x)"
      ]
    },
    {
      "cell_type": "code",
      "execution_count": null,
      "metadata": {
        "id": "36rbZSRYO3Qt",
        "outputId": "fedf422c-e4ab-4f87-c421-8876a453eeb0"
      },
      "outputs": [
        {
          "name": "stdout",
          "output_type": "stream",
          "text": [
            "Es impar\n"
          ]
        },
        {
          "data": {
            "text/plain": [
              "'2'"
            ]
          },
          "execution_count": 19,
          "metadata": {},
          "output_type": "execute_result"
        }
      ],
      "source": [
        "numero= 0\n",
        "if not x%2:\n",
        "    print(\"Es par\")\n",
        "else:\n",
        "    print(\"Es impar\")\n",
        "\n",
        "\n",
        "input(\"ingresar un numero:\")"
      ]
    }
  ],
  "metadata": {
    "kernelspec": {
      "display_name": "base",
      "language": "python",
      "name": "python3"
    },
    "language_info": {
      "codemirror_mode": {
        "name": "ipython",
        "version": 3
      },
      "file_extension": ".py",
      "mimetype": "text/x-python",
      "name": "python",
      "nbconvert_exporter": "python",
      "pygments_lexer": "ipython3",
      "version": "3.8.3"
    },
    "colab": {
      "provenance": [],
      "include_colab_link": true
    }
  },
  "nbformat": 4,
  "nbformat_minor": 0
}